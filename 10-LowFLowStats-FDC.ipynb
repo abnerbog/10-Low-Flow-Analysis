{
  "cells": [
    {
      "cell_type": "markdown",
      "metadata": {},
      "source": [
        "# 10 - Low Flow Stats\n",
        "\n",
        "# Low Flow Analysis\n",
        "\n",
        "**Pre-activity reading:**\n",
        "\n",
        "<https://www.epa.gov/ceam/definition-and-characteristics-low-flows#1Q10>\n",
        "\n",
        "**Analysis based on:**\n",
        "\n",
        "<https://github.com/DEQdsobota/Oregon7Q10/blob/master/R/Oregon7Q10.R>\n",
        "\n",
        "<https://nepis.epa.gov/Exe/ZyPDF.cgi?Dockey=P100BK6P.txt>\n",
        "\n",
        "*Load packages for analysis. zoo will allow us to easily perform rolling\n",
        "means, and moments will allow easy calculation of skewness.*"
      ],
      "id": "16df67db-95ce-44e6-89c3-f89f36028f6d"
    },
    {
      "cell_type": "code",
      "execution_count": null,
      "metadata": {},
      "outputs": [],
      "source": [
        "library(zoo)\n",
        "library(tidyverse)\n",
        "library(dataRetrieval)\n",
        "library(lubridate)\n",
        "library(moments)\n",
        "\n",
        "theme_set(theme_classic())"
      ],
      "id": "444ba0a5-bd51-480e-ba4b-3d4267ced625"
    },
    {
      "cell_type": "markdown",
      "metadata": {},
      "source": [
        "## What are low flow statistics?\n",
        "\n",
        "Low flow design flows can be specified based on hydrological or\n",
        "biological data. Biological methods look more at water quality standards\n",
        "relevant to biota. The hydrologic method just looks at the statistical\n",
        "distribution of low flows over a period of time.\n",
        "\n",
        "-   Just from this simple definition, can you think of a management\n",
        "    situation where it would make sense to use the biological method?\n",
        "    the hydrologic method? What are the advantages to each?\n",
        "\n",
        "We will focus on hydrologic methods. What a surprise! You will most\n",
        "frequently see low flow stats in the format of xQy. So for example 7Q10\n",
        "or 1Q10 are common design flows. Let’s look at the EPA definition of\n",
        "these and then break them down.\n",
        "\n",
        "“The 1Q10 and 7Q10 are both hydrologically based design flows. The 1Q10\n",
        "is the lowest 1-day average flow that occurs (on average) once every 10\n",
        "years. The 7Q10 is the lowest 7-day average flow that occurs (on\n",
        "average) once every 10 years.” -EPA\n",
        "<https://www.epa.gov/ceam/definition-and-characteristics-low-flows#1Q10>\n",
        "\n",
        "So the first number, **the 7 in 7Q10** is how many days we will average\n",
        "flow over to calculate the statistic. Why does does this matter? Why not\n",
        "always use a 1 day flow record?\n",
        "\n",
        "Then the second number is the return-interval of the flow, or the\n",
        "probability that a flow of that magnitude or lower will occur any given\n",
        "year. **The 10 in 7Q10** means there is a 10 percent chance that the\n",
        "associated 7-day average flow or below will occur in any given year.\n",
        "Another way of saying this is that a flow of that magnitude or below\n",
        "occurs on average once every 10 years. **However** expressing it this\n",
        "way can be dangerous, especially with the opposite type of extreme\n",
        "flows: Floods. Why do you think it could be dangerous to say a flow of\n",
        "this magnitude or below will happen on average once every 10 years?\n",
        "\n",
        "**So, to calculate a 7Q10** we need: \\* 7-day mean-daily flows \\* The\n",
        "minimum value per year of those 7-day mean-daily flows \\* The return\n",
        "intervals of those minimum yearly flows\n",
        "\n",
        "**Because a 7Q10 flow means** \\* There is a 10% chance (return interval\n",
        "= 10) that a river will have a average weekly flow of that level or\n",
        "below in a given year.\n",
        "\n",
        "## Get data\n",
        "\n",
        "Let’s get started on an example. We will calculate the 7Q10 low flow\n",
        "statistic for the Linville NC usgs gage (02138500) using daily discharge\n",
        "data from 1922-1984. (parameter = 00060)"
      ],
      "id": "2483c066-e44e-4c4c-9d80-86dd981cd45a"
    },
    {
      "cell_type": "code",
      "execution_count": null,
      "metadata": {},
      "outputs": [
        {
          "output_type": "stream",
          "name": "stderr",
          "text": [
            "Warning: NWIS servers are slated for decommission. Please begin to migrate to\n",
            "read_waterdata_daily."
          ]
        },
        {
          "output_type": "stream",
          "name": "stderr",
          "text": [
            "GET: https://waterservices.usgs.gov/nwis/dv/?site=02138500&format=waterml%2C1.1&ParameterCd=00060&StatCd=00003&startDT=1922-01-01&endDT=1984-01-01"
          ]
        }
      ],
      "source": [
        "siteno <- \"02138500\"\n",
        "startDate <- \"1922-01-01\"\n",
        "endDate <- \"1984-01-01\"\n",
        "parameter <- \"00060\"\n",
        "\n",
        "Qdat <- readNWISdv(siteno, parameter, startDate, endDate) |> \n",
        "  renameNWISColumns()"
      ],
      "id": "3ffcb3ba-efed-47f8-9cdd-bdcbc62d4880"
    },
    {
      "cell_type": "markdown",
      "metadata": {},
      "source": [
        "## Create the X days average flow record\n",
        "\n",
        "Remember the 7 in 7Q10 means we are looking at the 7-day average flow.\n",
        "We just have daily values from the USGS gage, so we need to create this\n",
        "data record.\n",
        "\n",
        "To do this we will calculate a rolling average, also called a\n",
        "moving-window average. This just means you grab the first 7 days,\n",
        "average them, then move the window of the days you are averaging forward\n",
        "a day, and average again… all the way through the record.\n",
        "\n",
        "For your rolling mean you can have the window look forward, backward, or\n",
        "forward and backward. For example, a forward window takes the average of\n",
        "X number of records and places the value at the beginning. Backward\n",
        "places that value at the end, and both would put it in the middle. In\n",
        "the function we will use to do this, forward is a left align, backward\n",
        "is right align, and both is centered.\n",
        "\n",
        "**For example**\n",
        "\n",
        "> data window = 1, 2, 3, 4, 5 (lots of values before and after this)\n",
        "\n",
        "> mean = 3\n",
        "\n",
        "> forward window/left align: 3, NA, NA, NA, NA\n",
        "\n",
        "> backward window/right align: NA, NA, NA, NA, 3\n",
        "\n",
        "> both/center align: NA, NA, 3, NA, NA\n",
        "\n",
        "We could certainly set up some code to calculate this, but there is a\n",
        "nice and fast function in the zoo package for calculating rolling means.\n",
        "\n",
        "As we write the code to do this analysis, we are going to keep in mind\n",
        "that we may want to calculate a different type of low flow, like a 1Q10,\n",
        "so we are going to store the x and y of the xQy low flow statistic as\n",
        "objects rather than including them several places in the code. That way\n",
        "we can just change them in one place and run the analysis to compute a\n",
        "different statistic."
      ],
      "id": "17256a82-6c92-49be-b352-c93b0c3f1bf6"
    },
    {
      "cell_type": "code",
      "execution_count": null,
      "metadata": {},
      "outputs": [],
      "source": [
        "#set x and y for xQy design flow\n",
        "Xday <- 7\n",
        "YrecInt <- 10\n",
        "\n",
        "#X day rolling mean, don't fill the ends of the timeseries,\n",
        "#don't ignore NAs, use a backward-looking window (right align)\n",
        "Qdat <- Qdat |> mutate(xdaymean = rollmean(Flow, \n",
        "                                            Xday, \n",
        "                                            fill = NA, \n",
        "                                            na.rm = F, \n",
        "                                            align = \"right\"))"
      ],
      "id": "1c0c91e3-4c2b-46a5-9dbf-4992c83bfb89"
    },
    {
      "cell_type": "markdown",
      "metadata": {},
      "source": [
        "## Look at what a rolling mean does.\n",
        "\n",
        "We just added a new column with the rolling mean, so let’s plot it and\n",
        "see what it did to the discharge record.\n",
        "\n",
        "Let’s look at June-August 1960. You can’t see too well what is going on\n",
        "in the full record."
      ],
      "id": "da8f6fd1-367a-4dcf-9b6b-cae1146d1023"
    },
    {
      "cell_type": "code",
      "execution_count": null,
      "metadata": {},
      "outputs": [
        {
          "output_type": "display_data",
          "metadata": {},
          "data": {
            "image/png": "[encoded data removed]"
          }
        }
      ],
      "source": [
        "Qdat |> \n",
        "  filter(Date > mdy(\"06-01-1960\") & Date < mdy(\"08-01-1960\")) |>\n",
        "  ggplot(aes(Date, Flow, color = \"daily\"))+\n",
        "    geom_line()+\n",
        "    geom_line(aes(x = Date, y = xdaymean, color = \"rolling mean\"))"
      ],
      "id": "4ada4c5e-0947-4d39-b691-ce6b70475543"
    },
    {
      "cell_type": "markdown",
      "metadata": {},
      "source": [
        "## Calculate yearly minimums\n",
        "\n",
        "Okay, we have our X-day rolling mean. Now we need to calculate the\n",
        "probability that a given magnitude flow or below will happen in a given\n",
        "year. Because we are concerned with *a given year* we need the lowest\n",
        "flow per year.\n",
        "\n",
        "We will calculate minimum flow per year by creating a *Year* column,\n",
        "grouping by that column, and using the summarize function to calculate\n",
        "the minimum flow per year. The code we are going to write will also drop\n",
        "any years that are missing too much data by dropping years missing 10%\n",
        "or more days."
      ],
      "id": "10836e27-b62d-4245-b425-2ff3ab804643"
    },
    {
      "cell_type": "code",
      "execution_count": null,
      "metadata": {},
      "outputs": [],
      "source": [
        "#missing less than 10% of each year and 10% or fewer NAs\n",
        "QyearlyMins <- Qdat |> mutate(year = year(Date)) |>\n",
        "                        group_by(year) |>\n",
        "                        summarize(minQ = min(xdaymean, na.rm = T), \n",
        "                                  lenDat = length(Flow),\n",
        "                                  lenNAs = sum(is.na(xdaymean))) |>\n",
        "                        filter(lenDat > 328 & lenNAs / lenDat < 0.1) "
      ],
      "id": "51bcaaeb-15dd-432c-b4ea-bbd4c102efa2"
    },
    {
      "cell_type": "markdown",
      "metadata": {},
      "source": [
        "## Calculate return interval\n",
        "\n",
        "Now that we have an object that contains our yearly minimum flows, we\n",
        "can calculate the return interval as\n",
        "\n",
        "$Return Interval = (n + 1) / rank$\n",
        "\n",
        "Where n is the number of records in the data (number of years) and rank\n",
        "is the rank of each year’s low flow (lowest flow = rank 1 and so on). We\n",
        "can calculate the rank with the rank() function in base R. In the rank\n",
        "function we will specify that in the case of a tie, the first value gets\n",
        "the lower rank using ties.method = “first”.\n",
        "\n",
        "We can then transform that to an exceedence probability as\n",
        "\n",
        "$Exceedence Probability = 1 / Return Interval$\n",
        "\n",
        "Once we calculate the return interval and exceedence probability we will\n",
        "plot the return interval against the minimum discharge."
      ],
      "id": "5ace6f76-ade3-4b68-9705-2d3953e63b75"
    },
    {
      "cell_type": "code",
      "execution_count": null,
      "metadata": {},
      "outputs": [
        {
          "output_type": "display_data",
          "metadata": {},
          "data": {
            "image/png": "[encoded data removed]"
          }
        }
      ],
      "source": [
        "# add rank column and return interval column\n",
        "QyearlyMins <- QyearlyMins |> \n",
        "                mutate(rank = rank(minQ, ties.method = \"first\")) |>\n",
        "                mutate(ReturnInterval = (length(rank) + 1)/rank) |>\n",
        "                mutate(ExceedProb = 1 / ReturnInterval)\n",
        "      \n",
        "ggplot(QyearlyMins, aes(x = ReturnInterval, y = minQ))+\n",
        "  geom_point()"
      ],
      "id": "56f9cbcb-abbb-478d-bc8c-02bf6f1dbb33"
    },
    {
      "cell_type": "markdown",
      "metadata": {},
      "source": [
        "**Challenge question** How is this similar to a flow duration curve?\n",
        "Could you make a “flow duration curve” from these data? What would it\n",
        "tell you?"
      ],
      "id": "aa5016ff-c2ca-4391-959d-9648dbf4abbb"
    },
    {
      "cell_type": "code",
      "execution_count": null,
      "metadata": {},
      "outputs": [
        {
          "output_type": "display_data",
          "metadata": {},
          "data": {
            "image/png": "[encoded data removed]"
          }
        }
      ],
      "source": [
        "ggplot(QyearlyMins, aes(x = ExceedProb, y = minQ))+\n",
        "  geom_point()"
      ],
      "id": "6fa35c07-43e7-4a81-ace1-cafb63e84304"
    },
    {
      "cell_type": "markdown",
      "metadata": {},
      "source": [
        "## Fit to Pearson Type II distribution\n",
        "\n",
        "Source for these calculations:\n",
        "<https://water.usgs.gov/osw/bulletin17b/dl_flow.pdf>\n",
        "\n",
        "We now have everything we need to calculate what the 10-year return\n",
        "interval flow is (the 0.1 probability flow). To do this, we have to fit\n",
        "a distribution to our data and then use that fitted distribution to\n",
        "predict the value of the 10-year return interval flow.\n",
        "\n",
        "This may sound a little complex, but let’s think about it this way:\n",
        "\n",
        "-   You have some data, let’s say: heights of students at Virginia Tech\n",
        "-   You did some tests on it and know it is a normal distribution\n",
        "-   If you measure the mean and standard deviation of that distribution,\n",
        "    you could create a “fitted” representation of your distrubtion by\n",
        "    generating a normal distribution with the same mean and standard\n",
        "    deviation with the rnorm() function.\n",
        "-   Now you could plot that fitted, synthetic distribution as an ECDF\n",
        "    and read the plot to determine, say, 10% of students (0.1\n",
        "    probability) are at or above what height?\n",
        "\n",
        "Assume the average height from your data was 65 inches and the standard\n",
        "deviation was 6 inches (this is 100% made up), let’s look at it."
      ],
      "id": "db125328-fc3b-4f1d-a05a-baa689f8ef42"
    },
    {
      "cell_type": "code",
      "execution_count": null,
      "metadata": {},
      "outputs": [
        {
          "output_type": "display_data",
          "metadata": {},
          "data": {
            "image/png": "[encoded data removed]"
          }
        }
      ],
      "source": [
        "fitteddistribution <- rnorm(1000, mean = 65, sd = 6) |>\n",
        "  as_tibble()\n",
        "\n",
        "ggplot(fitteddistribution, aes(x = value))+\n",
        "  stat_ecdf()+\n",
        "  xlab(\"height (in)\")+\n",
        "  ylab(\"probability\")"
      ],
      "id": "227df3e4-ef63-4708-9899-f3980b7ab36d"
    },
    {
      "cell_type": "markdown",
      "metadata": {},
      "source": [
        "To get our 10 year return period (0.1 exceedence probability) we are\n",
        "going to do the same thing, except we know the distribution of the data\n",
        "isn’t normal, so we have to use a different distribution.\n",
        "\n",
        "There are a bunch of “extreme value” distributions used in these type of\n",
        "analyses. When we talk about floods we will use the Gumbel distribution,\n",
        "for example. For this type of analysis, it is common to use the Pearson\n",
        "Type III distribution.\n",
        "\n",
        "When we used the normal distribution example, we let R produce the\n",
        "distribution that fit our data. In this case we will use the equation\n",
        "that describes the Pearson Type III distribution. To predict flow at a\n",
        "given recurrence interval we will need the mean of the logged discharges\n",
        "(Xbar), the frequency factor (K), the standard deviation of the log\n",
        "discharges (S), skewness (g), and the standard normal variate (z). We\n",
        "will first compute this for all of the values in our data set to see how\n",
        "the fitted values fit our calculated values.\n",
        "\n",
        "**Pearson Type III**\n",
        "\n",
        "$Flow = exp(Xbar + KS)$\n",
        "\n",
        "where:\n",
        "\n",
        "Xbar = mean of the log discharge you are investigating\n",
        "\n",
        "K = frequency factor\n",
        "\n",
        "S = standard deviation of log discharges\n",
        "\n",
        "**Frequency Factor**\n",
        "\n",
        "$K = (2 / g) * ((1 +( g * z)) / 6 - ((g ^ 2) / 36)) ^ 3 - 1)$\n",
        "\n",
        "**Skewness**\n",
        "\n",
        "g = skewness() from moments package\n",
        "\n",
        "**Standard normal variate**\n",
        "\n",
        "$z = 4.91 * ((1 / y) ^ {0.14} - (1 - (1 / y)) ^ {0.14})$\n",
        "\n",
        "y = recurrence interval"
      ],
      "id": "8335096b-4578-4532-a01c-72134f7bbb8a"
    },
    {
      "cell_type": "code",
      "execution_count": null,
      "metadata": {},
      "outputs": [],
      "source": [
        "#Measures of the distribution\n",
        "Xbar <- mean(log(QyearlyMins$minQ))\n",
        "S    <- sd(log(QyearlyMins$minQ))\n",
        "g    <- skewness(log(QyearlyMins$minQ))\n",
        " \n",
        "#calculate z, K, to plot the fitted Pearson Type III\n",
        "QyearlyMins <- QyearlyMins |> \n",
        "  mutate(z = 4.91 * ((1 / ReturnInterval) ^ 0.14 - (1 - 1 / ReturnInterval) ^ 0.14)) |>\n",
        "  mutate(K = (2 / g) * (((1 + (g * z) / 6 - (g ^ 2) / 36) ^ 3) - 1) ) |>\n",
        "  mutate(Qfit = exp(Xbar + K * S))"
      ],
      "id": "a392587e-2733-441b-b976-2ed1163a8ae4"
    },
    {
      "cell_type": "markdown",
      "metadata": {},
      "source": [
        "Let’s look our results and see how they fit. Plot the return interval on\n",
        "the x axis and flow on the y. Plot minQ, the minimum Q data, and Qfit,\n",
        "the data from the the model fit."
      ],
      "id": "b959f8d3-a181-4daf-9b74-7fb0a6b65b4e"
    },
    {
      "cell_type": "code",
      "execution_count": null,
      "metadata": {},
      "outputs": [
        {
          "output_type": "display_data",
          "metadata": {},
          "data": {
            "image/png": "[encoded data removed]"
          }
        }
      ],
      "source": [
        "QyearlyMins |> \n",
        "  ggplot(aes(x = ReturnInterval, y = minQ, color = \"Estimated\"))+\n",
        "  geom_point()+\n",
        "  geom_line(aes(x = ReturnInterval, y = Qfit, color = \"Fitted\"))+\n",
        "  theme_classic()+\n",
        "  scale_x_log10()+\n",
        "  ylab(\"X day yearly minimum\")+\n",
        "  xlab(\"Return Interval\")"
      ],
      "id": "bdcdc3c7-ec17-45d5-9e4e-a024bd2c2805"
    },
    {
      "cell_type": "markdown",
      "metadata": {},
      "source": [
        "Above we calculated z, K and the flow for each return interval in our\n",
        "data record to see how the distribution fit our data. We can see it fits\n",
        "quite well.\n",
        "\n",
        "We can use the same calculations as we used on the entire record to\n",
        "calculate a specific return period of interest. In our case, the 10 year\n",
        "return period for the 7Q10.\n",
        "\n",
        "We will set y equal to YrecInt, which we set above. This way we can just\n",
        "change it at the top of the code to run whatever xQy metric we want."
      ],
      "id": "35330fce-5b65-4cb1-b948-aba5d3a62be8"
    },
    {
      "cell_type": "code",
      "execution_count": null,
      "metadata": {},
      "outputs": [],
      "source": [
        "#xQy ei: 7Q10\n",
        "y <- YrecInt\n",
        "\n",
        "#Find these values based on established relationships\n",
        "z    <- 4.91 * ((1 / y) ^ 0.14 - (1 - 1 / y) ^ 0.14)\n",
        "K    <- (2 / g) * (((1 + (g * z) / 6 - (g ^ 2) / 36) ^ 3) - 1) \n",
        "\n",
        "PearsonxQy <- exp(Xbar + K * S)"
      ],
      "id": "24ac45a1-c923-4388-b57c-95ab098bde1f"
    },
    {
      "cell_type": "markdown",
      "metadata": {},
      "source": [
        "So, our 7Q10 flow in cfs for this gage is…."
      ],
      "id": "b0816428-b2ba-43ab-b8a2-0619936c5005"
    },
    {
      "cell_type": "code",
      "execution_count": null,
      "metadata": {},
      "outputs": [
        {
          "output_type": "stream",
          "name": "stdout",
          "text": [
            "[1] 16.70488"
          ]
        }
      ],
      "source": [
        "#Low flow stat (7Q10 in exercise)\n",
        "PearsonxQy"
      ],
      "id": "2bdecee9-db55-4bf7-b4c9-c436a5db7fac"
    },
    {
      "cell_type": "markdown",
      "metadata": {},
      "source": [
        "## Distribution-free method\n",
        "\n",
        "We won’t go over this in the same detail, but the xQy flow can also be\n",
        "calculated using a formula that does not assume a specific distribution.\n",
        "The expression, and code to perform it, is below.\n",
        "\n",
        "**The expression for xQy is:**\n",
        "\n",
        "$xQy = (1-e) X(m1) + eX(m2)$\n",
        "\n",
        "where: \\[ \\] indicates the value is truncated\n",
        "\n",
        "$X(m)$ = the m-th lowest annual low flow of record\n",
        "\n",
        "$m1 = [(n+1)/y]$\n",
        "\n",
        "$m2 = [(n+l)/y] + 1$\n",
        "\n",
        "$[z]$ = the largest integer less than or equal to z\n",
        "\n",
        "$e = (n+l)/y - [(n+l)/y]$\n",
        "\n",
        "This method is only appropriate when the desired return period is less\n",
        "than n/5 years"
      ],
      "id": "4a9d58c1-0dfe-4aa4-96bc-13bcee2f38c3"
    },
    {
      "cell_type": "code",
      "execution_count": null,
      "metadata": {},
      "outputs": [
        {
          "output_type": "stream",
          "name": "stdout",
          "text": [
            "[1] 15"
          ]
        }
      ],
      "source": [
        "x <- Xday\n",
        "y <- YrecInt\n",
        "n <- length(QyearlyMins$minQ)\n",
        "\n",
        "m1 <- trunc((n + 1)/y)\n",
        "m2 <- trunc(((n + 1)/y) + 1)\n",
        "\n",
        "e <- ((n + 1)/y) - m1\n",
        "\n",
        "Xm1 <- QyearlyMins$minQ[QyearlyMins$rank == m1]\n",
        "Xm2 <- QyearlyMins$minQ[QyearlyMins$rank == m2]\n",
        "\n",
        "DFxQy <- (1-e) * Xm1 + e * Xm2\n",
        "\n",
        "DFxQy"
      ],
      "id": "5f97ad6c-567b-40d8-9983-b7a0fd487b5d"
    }
  ],
  "nbformat": 4,
  "nbformat_minor": 5,
  "metadata": {
    "kernelspec": {
      "display_name": "Python 3",
      "language": "python",
      "name": "python3"
    }
  }
}